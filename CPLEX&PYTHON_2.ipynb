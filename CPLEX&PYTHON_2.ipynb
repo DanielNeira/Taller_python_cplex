{
 "cells": [
  {
   "cell_type": "markdown",
   "metadata": {},
   "source": [
    "# PYTHON CON CPLEX II"
   ]
  },
  {
   "cell_type": "markdown",
   "metadata": {},
   "source": [
    "<table><tr>\n",
    "<td> <img src=\"img/python.png\" alt=\"Drawing\" style=\"width: 220px;\"/> </td>\n",
    "<td> <img src=\"img/add.png\" alt=\"Drawing\" style=\"width:150px;\"/> </td>\n",
    "<td> <img src=\"img/cplex.png\" alt=\"Drawing\" style=\"width: 250px;\"/> </td>\n",
    "<td> <img src=\"img/equal.png\" alt=\"Drawing\" style=\"width: 150px;\"/> </td>\n",
    "<td> <img src=\"img/laptop.png\" alt=\"Drawing\" style=\"width: 200px;\"/> </td>\n",
    "</tr></table>"
   ]
  },
  {
   "cell_type": "markdown",
   "metadata": {},
   "source": [
    "En esta clase:\n",
    "- Revisión TAREA CPLEX\n",
    "- Cutstock Problem\n",
    "- Como usar Callback - Ejemplo\n",
    "- Bender's decomposition\n",
    "- Como hacer heuristicas\n",
    "- Paquetes para metaheuristicas"
   ]
  },
  {
   "cell_type": "markdown",
   "metadata": {},
   "source": [
    "# Ejercicio: Orienteering problem (OP)\n",
    "\n",
    "Recall the MIP formulation:\n",
    "\n",
    "In the OP, a set of N vertices $i$ is given, each with a score $S_{i}$. The starting point (vertex 1) and the end point (vertex $N$) are fixed. The time $t_{ij}$ needed to travel from vertex $i$ to $j$ is known for all vertices. Not all vertices can be visited since the available time is limited to a given time budget $T_{max}$. The goal of the OP is to determine a path, limited by Tmax, that visits some of the vertices, in order to maxi- mise the total collected score. The scores are assumed to be entirely additive and each vertex can be visited at most once.\n",
    "The OP can also be defined with the aid of a graph $G=(V,A)$ where $V=\\{v_{1}, . . . , v_{N}\\}$ is the vertex set and $A$ is the arc set. In this definition the nonnegative score $S_i$ is associated with each vertex $v_i$ 2 $V$ and the travel time $t_{ij}$ is associated with each arc $a_{ij}$ $A$. The OP consists of determining a Hamiltonian path $G^{’}$ $(G)$ over a sub-set of $V$, including preset start ($v_1$) and end ($v_N$) vertex, and having a length not exceeding $T_{max}$, in order to maximise the total collected score. In most cases, the OP is defined as a path to be found between distinct vertices, rather than a circuit or tour $(v_1,...,v_N)$. In many applications, however, $v_1$ does coincide with $v_N$. The difference between both formulations is small. It is always possible to add a dummy arc between end and start vertex to turn a path problem into a circuit problem. Mansini et al. (2006) explicitly define the ‘‘tour orienteering problem” as an OP where the start and end vertex coincide.\n",
    "Making use of the notation introduced above, the OP can be for- mulated as an integer problem. The following decision variables are used: $x_{ij} = 1$ if a visit to vertex $i$ is followed by a visit to vertex $j$ – 0 otherwise; $u_i$ = the position of vertex i in the path.\n",
    "\n",
    "<img src=\"http://www.sciweavers.org/tex2img.php?eq=Max%20%5Csum_%7Bi%3D2%7D%5E%7BN-1%7D%5Csum_%7Bj%3D2%7D%5E%7BN%7DS_i%20x_%7Bij%7D%20%5C%5C%20%5Csum_%7Bj%3D2%7D%5E%7BN%7Dx_%7B1j%7D%20%3D%20%5Csum_%7Bi%3D1%7D%5E%7BN-1%7D%20x_%7BiN%7D%20%3D%201%5C%5C%0A%5Csum_%7Bi%3D1%7D%5E%7BN-1%7Dx_%7Bik%7D%3D%5Csum_%7Bj%3D2%7D%5E%7BN%7Dx_%7Bkj%7D%20%5Cleq%201%2C%5Cforall%20k%3D2%2C...%2CN-1%5C%5C%0A%5Csum_%7Bi%3D1%7D%5E%7BN-1%7D%5Csum_%7Bj%3D2%7D%5E%7BN%7Dt_%7Bij%7Dx_%7Bij%7D%20%5Cleq%20T_%7Bmax%7D%5C%5C%202%20%5Cleq%20u_%7Bi%7D%20%5Cleq%20N%2C%5Cforall%20i%3D2%2C...%2CN%5C%5C%0Au_%7Bi%7D-u_%7Bj%7D%2B%201%20%5Cleq%20%28N-1%29%281-x_%7Bij%7D%29%2C%5Cforall%20i%2Cj%3D2%2C...%2CN%5C%5C%0Ax_%7Bij%7D%20%5Cin%20%7B0%2C1%7D%2C%5Cforall%20i%2Cj%3D1%2C...%2CN&bc=White&fc=Black&im=jpg&fs=12&ff=txfonts&edit=0\" align=\"center\" border=\"0\" alt=\"Max \\sum_{i=2}^{N-1}\\sum_{j=2}^{N}S_i x_{ij} \\\\ \\sum_{j=2}^{N}x_{1j} = \\sum_{i=1}^{N-1} x_{iN} = 1\\\\\\sum_{i=1}^{N-1}x_{ik}=\\sum_{j=2}^{N}x_{kj} \\leq 1,\\forall k=2,...,N-1\\\\\\sum_{i=1}^{N-1}\\sum_{j=2}^{N}t_{ij}x_{ij} \\leq T_{max}\\\\ 2 \\leq u_{i} \\leq N,\\forall i=2,...,N\\\\u_{i}-u_{j}+ 1 \\leq (N-1)(1-x_{ij}),\\forall i,j=2,...,N\\\\x_{ij} \\in \\{0,1\\},\\forall i,j=1,...,N\" width=\"300\" height=\"296\" />\n",
    "\n",
    "The objective function is to maximise the total collected score. The first Constraints guarantee that the path starts in vertex 1 and ends in vertex N. The Second Constraints ensure the connectivity of the path and guarantee that every vertex is visited at most once. Constraint (3) ensures the limited time budget. Constraints (4) and (5) are nec- essary to prevent subtours. These subtour elimination constraints are formulated according to the Miller–Tucker–Zemlin (MTZ) for- mulation of the TSP (Miller et al., 1960).\n",
    "\n",
    "[Pagina para instancias de OP](https://www.mech.kuleuven.be/en/cib/op#section-2)"
   ]
  },
  {
   "cell_type": "markdown",
   "metadata": {},
   "source": [
    "# Lectura de Datos y Análisis\n",
    "\n",
    "Leo los datos desde un txt"
   ]
  },
  {
   "cell_type": "code",
   "execution_count": null,
   "metadata": {},
   "outputs": [],
   "source": [
    "import pandas as pd\n",
    "import numpy as np"
   ]
  },
  {
   "cell_type": "code",
   "execution_count": null,
   "metadata": {},
   "outputs": [],
   "source": [
    "ruta = 'data/tsiligirides_problem_1_budget_85.txt'\n",
    "archivo = pd.read_csv(ruta, header=None, delim_whitespace=True)"
   ]
  },
  {
   "cell_type": "markdown",
   "metadata": {},
   "source": [
    "Asigno el tiempo o distancia máxima de la ruta"
   ]
  },
  {
   "cell_type": "code",
   "execution_count": null,
   "metadata": {},
   "outputs": [],
   "source": [
    "tiempo_max=archivo.iloc[-1].values\n",
    "tiempo_max=int(tiempo_max[0])"
   ]
  },
  {
   "cell_type": "markdown",
   "metadata": {},
   "source": [
    "Creo matriz de distancias"
   ]
  },
  {
   "cell_type": "code",
   "execution_count": null,
   "metadata": {},
   "outputs": [],
   "source": [
    "dist=[]\n",
    "for i in range(31):\n",
    "    a=archivo.iloc[i]\n",
    "    a=np.array(a)\n",
    "    a=np.delete(a,2)\n",
    "    for j in range(31):\n",
    "        if i!=j:\n",
    "            b=archivo.iloc[j]\n",
    "            b=np.array(b)\n",
    "            b=np.delete(b,2)\n",
    "            dist.append(int(np.linalg.norm(a-b)))\n",
    "        elif i==j:\n",
    "            dist.append(99999)"
   ]
  },
  {
   "cell_type": "code",
   "execution_count": null,
   "metadata": {},
   "outputs": [],
   "source": [
    "distancias=np.array(dist)\n",
    "distancias=distancias.reshape(31,31)\n",
    "#print(distancias)"
   ]
  },
  {
   "cell_type": "markdown",
   "metadata": {},
   "source": [
    "Obtengo los beneficios de cada nodo"
   ]
  },
  {
   "cell_type": "code",
   "execution_count": null,
   "metadata": {},
   "outputs": [],
   "source": [
    "beneficios=[]\n",
    "for i in range(31):\n",
    "    c= archivo.iloc[i]\n",
    "    c = [int(i) for i in c]\n",
    "    del c[0]\n",
    "    del c[0]\n",
    "    c=c[0]\n",
    "    beneficios.append(c)\n",
    "print(beneficios)   "
   ]
  },
  {
   "cell_type": "markdown",
   "metadata": {},
   "source": [
    "### EJERCICIO-> HACER LA IMPLEMENTACIÓN EN CPLEX CONECTADO A PYTHON"
   ]
  },
  {
   "cell_type": "markdown",
   "metadata": {},
   "source": [
    "# DEAP biblioteca para hacer metaheuristicas en python"
   ]
  },
  {
   "cell_type": "markdown",
   "metadata": {},
   "source": [
    "<img src=\"img/nsga2.jpg\" alt=\"Drawing\"/>"
   ]
  },
  {
   "cell_type": "code",
   "execution_count": 1,
   "metadata": {},
   "outputs": [],
   "source": [
    "import random\n",
    "\n",
    "import numpy\n",
    "\n",
    "from deap import algorithms\n",
    "from deap import base\n",
    "from deap import creator\n",
    "from deap import tools\n",
    "\n",
    "IND_INIT_SIZE = 5\n",
    "MAX_ITEM = 50\n",
    "MAX_WEIGHT = 50\n",
    "NBR_ITEMS = 20"
   ]
  },
  {
   "cell_type": "code",
   "execution_count": 2,
   "metadata": {},
   "outputs": [],
   "source": [
    "# Para asegurar la reproductibilidad, la semilla RNG se coloca antes de la inicialización de los artículos. \n",
    "# También se siembra en main().\n",
    "random.seed(64)\n",
    "\n",
    "# Crear el diccionario de ítems: el nombre del ítem es un número entero, y el valor es \n",
    "# 2-tupla :  (peso, valor).\n",
    "items = {}\n",
    "# Crear elementos aleatorios y guárdelos en el diccionario de elementos.\n",
    "for i in range(NBR_ITEMS):\n",
    "    items[i] = (random.randint(1, 10), random.uniform(0, 100))"
   ]
  },
  {
   "cell_type": "code",
   "execution_count": null,
   "metadata": {},
   "outputs": [],
   "source": [
    "creator.create(\"Fitness\", base.Fitness, weights=(-1.0, 1.0))\n",
    "creator.create(\"Individual\", set, fitness=creator.Fitness)"
   ]
  },
  {
   "cell_type": "code",
   "execution_count": 3,
   "metadata": {},
   "outputs": [],
   "source": [
    "toolbox = base.Toolbox()\n",
    "# Generador de atributos\n",
    "toolbox.register(\"attr_item\", random.randrange, NBR_ITEMS)\n",
    "\n",
    "# Inicializadores de estructura\n",
    "toolbox.register(\"individual\", tools.initRepeat, creator.Individual, \n",
    "                toolbox.attr_item, IND_INIT_SIZE)\n",
    "toolbox.register(\"population\", tools.initRepeat, list, toolbox.individual)"
   ]
  },
  {
   "cell_type": "code",
   "execution_count": 4,
   "metadata": {},
   "outputs": [],
   "source": [
    "def evalKnapsack(individual):\n",
    "    weight = 0.0\n",
    "    value = 0.0\n",
    "    for item in individual:\n",
    "        weight += items[item][0]\n",
    "        value += items[item][1]\n",
    "    if len(individual) > MAX_ITEM or weight > MAX_WEIGHT:\n",
    "        return 10000, 0             # Se asegura que las mochilas con sobrepeso esten dominadas.\n",
    "    return weight, value"
   ]
  },
  {
   "cell_type": "code",
   "execution_count": 5,
   "metadata": {},
   "outputs": [],
   "source": [
    "def cxSet(ind1, ind2):\n",
    "    \"\"\"Aplica una operación crossover en los conjuntos de entradas. El primer \n",
    "    hijo es la intersección de los dos conjuntos, el segundo hijo es la \n",
    "    diferencia de los dos conjuntos.\n",
    "    \"\"\"\n",
    "    temp = set(ind1)                # Usado para mantener el tipo\n",
    "    ind1 &= ind2                    # Intersección (inplace)\n",
    "    ind2 ^= temp                    # Diferencia simétrica (inplace)\n",
    "    return ind1, ind2"
   ]
  },
  {
   "cell_type": "markdown",
   "metadata": {},
   "source": [
    "<img src=\"img/itHWa.jpg\" alt=\"Drawing\"/>"
   ]
  },
  {
   "cell_type": "code",
   "execution_count": 6,
   "metadata": {},
   "outputs": [],
   "source": [
    "def mutSet(individual):\n",
    "    \"\"\"Mutation that pops or add an element.\"\"\"\n",
    "    if random.random() < 0.5:\n",
    "        if len(individual) > 0:     # No se puede eliminar un conjunto vacio\n",
    "            individual.remove(random.choice(sorted(tuple(individual))))\n",
    "    else:\n",
    "        individual.add(random.randrange(NBR_ITEMS))\n",
    "    return individual,\n",
    "\n",
    "toolbox.register(\"evaluate\", evalKnapsack)\n",
    "toolbox.register(\"mate\", cxSet)\n",
    "toolbox.register(\"mutate\", mutSet)\n",
    "toolbox.register(\"select\", tools.selNSGA2)"
   ]
  },
  {
   "cell_type": "code",
   "execution_count": 7,
   "metadata": {},
   "outputs": [],
   "source": [
    "def main():\n",
    "    random.seed(64)\n",
    "    NGEN = 50\n",
    "    MU = 50\n",
    "    LAMBDA = 100\n",
    "    CXPB = 0.7\n",
    "    MUTPB = 0.2\n",
    "    \n",
    "    pop = toolbox.population(n=MU)\n",
    "    hof = tools.ParetoFront()\n",
    "    stats = tools.Statistics(lambda ind: ind.fitness.values)\n",
    "    stats.register(\"avg\", numpy.mean, axis=0)\n",
    "    stats.register(\"std\", numpy.std, axis=0)\n",
    "    stats.register(\"min\", numpy.min, axis=0)\n",
    "    stats.register(\"max\", numpy.max, axis=0)\n",
    "    \n",
    "    algorithms.eaMuPlusLambda(pop, toolbox, MU, LAMBDA, CXPB, MUTPB, NGEN, stats,\n",
    "                              halloffame=hof)\n",
    "    \n",
    "    return pop, stats, hof"
   ]
  },
  {
   "cell_type": "code",
   "execution_count": 8,
   "metadata": {},
   "outputs": [
    {
     "name": "stdout",
     "output_type": "stream",
     "text": [
      "gen\tnevals\tavg                        \tstd                      \tmin                      \tmax                        \n",
      "0  \t50    \t[ 22.78       210.00877715]\t[ 5.88316241 71.09309649]\t[10.         49.69958685]\t[ 38.         345.35491309]\n",
      "1  \t87    \t[  9.96       145.20790666]\t[ 10.61312395 139.1868852 ]\t[0. 0.]                  \t[ 45.         414.48478381]\n",
      "2  \t91    \t[ 3.26       61.20087478]  \t[  7.44797959 125.53892809]\t[0. 0.]                  \t[ 28.         414.48478381]\n",
      "3  \t88    \t[ 4.6        84.51641114]  \t[  8.57438044 140.51459866]\t[0. 0.]                  \t[ 28.         414.48478381]\n",
      "4  \t92    \t[ 2.4        52.24310488]  \t[  5.82065288 108.88598622]\t[0. 0.]                  \t[ 28.         414.48478381]\n",
      "5  \t87    \t[ 3.66       74.97342258]  \t[  6.99316809 127.02866009]\t[0. 0.]                  \t[ 28.         414.48478381]\n",
      "6  \t82    \t[  5.3        111.43072783]\t[  7.61117599 142.76899122]\t[0. 0.]                  \t[ 28.         414.48478381]\n",
      "7  \t90    \t[ 3.38       76.37304048]  \t[  6.06593769 116.8118772 ]\t[0. 0.]                  \t[ 28.         414.48478381]\n",
      "8  \t86    \t[ 3.12       71.66806998]  \t[  6.50427552 126.61232639]\t[0. 0.]                  \t[ 28.         414.48478381]\n",
      "9  \t89    \t[ 4.28       96.82282974]  \t[  7.61587815 140.68614155]\t[0. 0.]                  \t[ 28.         414.48478381]\n",
      "10 \t91    \t[ 4.66       94.20965502]  \t[  8.72607586 154.59704209]\t[0. 0.]                  \t[ 33.         436.40977463]\n",
      "11 \t94    \t[ 3.38       82.54801261]  \t[  7.42937413 143.83372367]\t[0. 0.]                  \t[ 34.        483.3208272]  \n",
      "12 \t92    \t[  4.72       112.19978461]\t[  8.5370721  164.14270307]\t[0. 0.]                  \t[ 34.        483.3208272]  \n",
      "13 \t89    \t[ 4.14       95.86909694]  \t[  8.66258622 165.78275753]\t[0. 0.]                  \t[ 34.        483.3208272]  \n",
      "14 \t86    \t[  5.7        125.59256851]\t[ 10.31552228 184.80667754]\t[0. 0.]                  \t[ 38.       492.202995]    \n",
      "15 \t86    \t[  9.02      201.1503762]  \t[ 11.73625153 198.65247411]\t[0. 0.]                  \t[ 38.       492.202995]    \n",
      "16 \t90    \t[  6.         121.10597089]\t[ 11.05621997 186.00117203]\t[0. 0.]                  \t[ 38.       492.202995]    \n",
      "17 \t91    \t[  7.02       145.26997395]\t[ 11.35163424 195.13724753]\t[0. 0.]                  \t[ 38.       492.202995]    \n",
      "18 \t87    \t[  8.88       176.19932087]\t[ 12.36064723 206.72218973]\t[0. 0.]                  \t[ 38.       492.202995]    \n",
      "19 \t89    \t[  9.         185.80512507]\t[ 13.14990494 205.56098522]\t[0. 0.]                  \t[ 38.       492.202995]    \n",
      "20 \t90    \t[ 14.26       270.31330726]\t[ 14.86312215 209.42601383]\t[0. 0.]                  \t[ 38.       492.202995]    \n",
      "21 \t89    \t[ 18.56       320.11359043]\t[ 16.31828422 199.16225476]\t[0. 0.]                  \t[ 46.         504.68809431]\n",
      "22 \t92    \t[ 10.44       224.04582546]\t[ 13.46723431 208.40787182]\t[0. 0.]                  \t[ 46.         504.68809431]\n",
      "23 \t89    \t[  7.88       208.66031791]\t[  9.97524937 203.26322025]\t[0. 0.]                  \t[ 31.         551.23467984]\n",
      "24 \t88    \t[  9.48       249.03636129]\t[ 10.43310117 198.35214182]\t[0. 0.]                  \t[ 31.         551.23467984]\n",
      "25 \t89    \t[  9.74       259.22144876]\t[ 10.21921719 193.68124563]\t[0. 0.]                  \t[ 31.         551.23467984]\n",
      "26 \t86    \t[ 12.24       290.69068602]\t[ 11.2045705 198.7052511]  \t[0. 0.]                  \t[ 32.         559.60127088]\n",
      "27 \t87    \t[  6.12       200.12601646]\t[  7.6305701  188.98511995]\t[0. 0.]                  \t[ 32.         559.60127088]\n",
      "28 \t90    \t[  5.46       173.68629391]\t[  8.35035329 194.13713321]\t[0. 0.]                  \t[ 32.         559.60127088]\n",
      "29 \t94    \t[  5.14       153.60942869]\t[  8.53465875 196.89251588]\t[0. 0.]                  \t[ 32.         559.60127088]\n",
      "30 \t93    \t[  5.7        160.04836138]\t[  9.55667306 202.73012538]\t[0. 0.]                  \t[ 36.         568.48343867]\n",
      "31 \t95    \t[  5.7        175.36993944]\t[  8.74585616 196.02530582]\t[0. 0.]                  \t[ 36.         568.48343867]\n",
      "32 \t78    \t[  5.74       175.66843167]\t[  8.75856153 196.28166654]\t[0. 0.]                  \t[ 36.         568.48343867]\n",
      "33 \t91    \t[  6.72       192.14030284]\t[  9.63335871 208.7809893 ]\t[0. 0.]                  \t[ 36.         568.48343867]\n",
      "34 \t92    \t[  7.28       196.69424357]\t[ 10.39815368 216.27735816]\t[0. 0.]                  \t[ 36.         568.48343867]\n",
      "35 \t89    \t[  8.02       231.63771291]\t[  9.80711986 209.75037701]\t[0. 0.]                  \t[ 36.         568.48343867]\n",
      "36 \t90    \t[  8.04       232.59848901]\t[  9.8080783  207.02589326]\t[0. 0.]                  \t[ 36.         568.48343867]\n",
      "37 \t85    \t[  8.72       254.17230119]\t[  9.31244329 204.65321872]\t[0. 0.]                  \t[ 36.         568.48343867]\n",
      "38 \t89    \t[  7.48       207.61125864]\t[  9.98847336 213.49904673]\t[0. 0.]                  \t[ 36.         568.48343867]\n",
      "39 \t92    \t[  9.36      245.9486636]  \t[ 11.3256523  215.87109513]\t[0. 0.]                  \t[ 42.         637.31948207]\n",
      "40 \t92    \t[ 10.98       271.16188039]\t[ 12.40401548 223.61565328]\t[0. 0.]                  \t[ 42.         637.31948207]\n",
      "41 \t93    \t[ 10.8        272.43239273]\t[ 12.13424905 220.99277855]\t[0. 0.]                  \t[ 42.         637.31948207]\n",
      "42 \t91    \t[ 11.86       304.07117362]\t[ 12.03995017 211.20576324]\t[0. 0.]                  \t[ 42.         637.31948207]\n",
      "43 \t93    \t[ 11.38      288.3292047]  \t[ 12.25706327 222.63153571]\t[0. 0.]                  \t[ 42.         637.31948207]\n",
      "44 \t87    \t[ 11.62     302.244937]    \t[ 12.38691245 217.55803025]\t[0. 0.]                  \t[ 42.         637.31948207]\n",
      "45 \t87    \t[ 11.7        297.43893553]\t[ 12.64634335 223.48730523]\t[0. 0.]                  \t[ 42.         637.31948207]\n",
      "46 \t91    \t[ 16.7        368.89821598]\t[ 14.88925787 230.18959314]\t[0. 0.]                  \t[ 47.         707.73092646]\n",
      "47 \t88    \t[ 15.02       344.98372128]\t[ 14.04776139 235.63811278]\t[0. 0.]                  \t[ 47.         707.73092646]\n",
      "48 \t86    \t[ 12.66       307.94602816]\t[ 13.67422393 237.85697412]\t[0. 0.]                  \t[ 47.         707.73092646]\n",
      "49 \t90    \t[ 15.78       366.45278023]\t[ 14.21870599 222.95780236]\t[0. 0.]                  \t[ 47.         707.73092646]\n",
      "50 \t87    \t[ 16.92       386.82265016]\t[ 14.89005037 220.57801282]\t[0. 0.]                  \t[ 47.         707.73092646]\n"
     ]
    }
   ],
   "source": [
    "if __name__ == \"__main__\":\n",
    "    main() "
   ]
  },
  {
   "cell_type": "markdown",
   "metadata": {},
   "source": [
    "## Material en internet:\n",
    "\n",
    "- [DEAP Package documentation](https://deap.readthedocs.io)\n",
    "- [Curso de profesor Sergio Correa - Universidad de la Serena](https://www.youtube.com/channel/UCGyGH1nuNrR1C35kWN9BMAg/videos)\n",
    "- [Documentación oficial (en inglés)](https://www.ibm.com/support/knowledgecenter/SSSA5P_12.7.1/ilog.odms.cplex.help/refpythoncplex/html/cplex.Cplex-class.html)"
   ]
  }
 ],
 "metadata": {
  "kernelspec": {
   "display_name": "Python 3",
   "language": "python",
   "name": "python3"
  },
  "language_info": {
   "codemirror_mode": {
    "name": "ipython",
    "version": 3
   },
   "file_extension": ".py",
   "mimetype": "text/x-python",
   "name": "python",
   "nbconvert_exporter": "python",
   "pygments_lexer": "ipython3",
   "version": "3.6.8"
  }
 },
 "nbformat": 4,
 "nbformat_minor": 2
}
