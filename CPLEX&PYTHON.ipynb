{
 "cells": [
  {
   "cell_type": "markdown",
   "metadata": {},
   "source": [
    "# PYTHON CON CPLEX"
   ]
  },
  {
   "cell_type": "markdown",
   "metadata": {},
   "source": [
    "<table><tr>\n",
    "<td> <img src=\"img/python.png\" alt=\"Drawing\" style=\"width: 220px;\"/> </td>\n",
    "<td> <img src=\"img/add.png\" alt=\"Drawing\" style=\"width:150px;\"/> </td>\n",
    "<td> <img src=\"img/cplex.png\" alt=\"Drawing\" style=\"width: 250px;\"/> </td>\n",
    "<td> <img src=\"img/equal.png\" alt=\"Drawing\" style=\"width: 150px;\"/> </td>\n",
    "<td> <img src=\"img/laptop.png\" alt=\"Drawing\" style=\"width: 200px;\"/> </td>\n",
    "</tr></table>"
   ]
  },
  {
   "cell_type": "markdown",
   "metadata": {},
   "source": [
    "En esta clase:\n",
    "- Descarga de CPLEX (Versión 12.9)\n",
    "- Conectar CPLEX con PYTHON\n",
    "- Repaso `Exceptions` en Python\n",
    "- Ejemplo\n",
    "- Ejercicio"
   ]
  },
  {
   "cell_type": "markdown",
   "metadata": {},
   "source": [
    "## Descargar CPLEX\n",
    "\n",
    "Desde comienzo de este año ya no existe una versión 100% gratis con todas las funcionalidades para estudiantes. Aún asi se puede descargar la versión trial desde [aca](https://www.ibm.com/products/ilog-cplex-optimization-studio)."
   ]
  },
  {
   "cell_type": "markdown",
   "metadata": {},
   "source": [
    "### CONECTAR CPLEX CON PYTHON:\n",
    "\n",
    "Requisitos:\n",
    "\n",
    "1) Tener instalado Cplex:\n",
    "    - Considere lo siguiente:\n",
    "        - Si tienes la versión IBM ILOG CPLEX 12.7.1 -> Se puede instalar en python 3.5 y 2.7\n",
    "        - Si tienes la versióin IBM ILOG CPLEX 12.8 -> Se puede instalar en python 3.5 y 3.6\n",
    "        - Si tienes la versión IBM ILOG CPLEX 12.9.1 -> Se puede instalar en python 3.7\n",
    "\n",
    "2) Tener instalado algun gestor de python:\n",
    "    - Anaconda\n",
    "    - PIP\n",
    "\n",
    "Ejemplo con IBM ILOG CPLEX 12.7.1 Y python 3.5 (anaconda) en Windows\n",
    "\n",
    "1) Crear ambiente de python 3.5(Si es que no tienes uno):\n",
    "\t- Abrir Anaconda Prompt como ADMINISTRADOR\n",
    "\t- Tipiar: conda create -n py35 python=3.5\n",
    "\t- Tipiar: activate py35\n",
    "\n",
    "2) Ubicar archivo setup.py:\n",
    "\t- Este archivo se encuentra en la dirección donde cplex esta instalado.\n",
    "\t- Ejemplo: C:\\Program Files\\IBM\\ILOG\\CPLEX_Studio1271\\cplex\\python\\3.5\\x64_win64\n",
    "\t- Ubicar dirección del archivo y copiarla\n",
    "\n",
    "3) Conectar Cplex con python:\n",
    "\t- Volver al anaconda prompt y tipiar: cd \"Ubicación archivo setup.py(Pegar dirección anterior)\"\n",
    "\t- Tipiar: python setup.py install\n",
    "\n",
    "Y LISTO!! "
   ]
  },
  {
   "cell_type": "markdown",
   "metadata": {},
   "source": [
    "## Veamos lo que son las excepciones\n",
    "\n",
    "En palabras simples nos sirven para verificar si alguna función o calculo se puede aplicar, sin que el programa se detenga, de otra forma al encontrar un problema el programa terminaría y las lineas siguientes no serían ejecutadas."
   ]
  },
  {
   "cell_type": "code",
   "execution_count": null,
   "metadata": {},
   "outputs": [],
   "source": [
    "import sys\n",
    "\n",
    "randomList = ['a', 0, 2]\n",
    "\n",
    "for entry in randomList:\n",
    "    try:\n",
    "        print(\"La entrada es\", entry)\n",
    "        r = 1/int(entry)\n",
    "        break\n",
    "    except:\n",
    "        print(\"Oops! Problema\",sys.exc_info()[0],\"encontrado\")\n",
    "        print(\"Siguiente entrada.\")\n",
    "        print()\n",
    "print(\"El recíploco de\",entry,\"es\",r)"
   ]
  },
  {
   "cell_type": "markdown",
   "metadata": {},
   "source": [
    "## Ahora vamos a ver como usarlo\n",
    "\n",
    "### Estructura de la API"
   ]
  },
  {
   "cell_type": "markdown",
   "metadata": {},
   "source": [
    "```\n",
    "CPLEX  \n",
    "│\n",
    "└───cplex._internal\n",
    "│   │   cplex._internal._anno: __Annotation API__\n",
    "│   │   cplex._internal._constants\n",
    "|   |   cplex._internal._matrices\n",
    "|   |   cplex._internal._parameter_classes: Parameters for the \n",
    "|   |                                       CPLEX Python API.\n",
    "│   │   cplex._internal._parameters_auto\n",
    "│   │   cplex._internal._procedural\n",
    "│   │   cplex._internal._pwl: __Piecewise Linear API__\n",
    "│   │   cplex._internal._pycplex\n",
    "│   │   cplex._internal._subinterfaces\n",
    "│   \n",
    "└───cplex.callbacks: Callback classes for the CPLEX Python API.\n",
    "│   │   Error codes and Exceptions raised by the CPLEX Python API.\n",
    "│\n",
    "└───cplex.exceptions.error_codes: Error codes returned by the \n",
    "|                                 Callable Library.\n",
    "│   \n",
    "└───Classes\n",
    "|    │   SparsePair: A class for storing sparse vector data.\n",
    "|    │   SparseTriple: A class for storing sparse matrix data.\n",
    "|\n",
    "└───Cplex: A class encapsulating a CPLEX Problem.\n",
    "|\n",
    "└───Functions\n",
    "|    |   terminate(*args, **kwargs): Gracefully stops a CPLEX algorithm.\n",
    "|\n",
    "└───Variables\n",
    "     |   infinity = 1e+20\n",
    "```"
   ]
  },
  {
   "cell_type": "markdown",
   "metadata": {},
   "source": [
    "## Probemos con un problema:\n",
    "\n",
    "$Max~z=x_1+2x_2+3x_3$\n",
    "\n",
    "sujeto a:\n",
    "\n",
    "$-x_1 + x_2 + x_3 \\leq 20$\n",
    "\n",
    "$x_1 - 3 x_2 + x_3 \\leq 30$\n",
    "\n",
    "$x_1 \\leq 40$\n",
    "\n",
    "$x_1,x_2,x_3 \\geq 0$"
   ]
  },
  {
   "cell_type": "code",
   "execution_count": 1,
   "metadata": {},
   "outputs": [],
   "source": [
    "import cplex\n",
    "from cplex.exceptions import CplexError"
   ]
  },
  {
   "cell_type": "code",
   "execution_count": 2,
   "metadata": {},
   "outputs": [],
   "source": [
    "# Datos comunes para los 3 tipos de alimentación\n",
    "my_obj = [1.0, 2.0, 3.0]\n",
    "my_ub = [40.0, cplex.infinity, cplex.infinity]\n",
    "#my_lb = [0.0, 0.0, 0.0] se omite ya que el valor 0.0 viene por default\n",
    "my_colnames = [\"x1\", \"x2\", \"x3\"] #importantisimo para poder llamarlas después\n",
    "my_rhs = [20.0, 30.0]\n",
    "my_rownames = [\"c1\", \"c2\"] #util para obtener información de columnas\n",
    "my_sense = \"LL\" # sentido de restricciones, en este caso menor o igual"
   ]
  },
  {
   "cell_type": "code",
   "execution_count": 14,
   "metadata": {},
   "outputs": [],
   "source": [
    "def populatebyrow(prob):\n",
    "    prob.objective.set_sense(prob.objective.sense.maximize)\n",
    "\n",
    "    # como los lower bounds son todos 0.0 (el default), lb es omitido aca\n",
    "    prob.variables.add(obj=my_obj, ub=my_ub, names=my_colnames)\n",
    "\n",
    "    # puede consultar variables de las siguientes formas:\n",
    "\n",
    "    # lbs es una lista con todos los lower bounds\n",
    "    lbs = prob.variables.get_lower_bounds()\n",
    "\n",
    "    # ub1 es el primer lower bound\n",
    "    ub1 = prob.variables.get_upper_bounds(0)\n",
    "\n",
    "    # los nombres son [\"x1\", \"x3\"]\n",
    "    names = prob.variables.get_names([0, 2])\n",
    "\n",
    "    rows = [[[0, \"x2\", \"x3\"], [-1.0, 1.0, 1.0]],\n",
    "            [[\"x1\", 1, 2], [1.0, -3.0, 1.0]]]\n",
    "    \n",
    "    \n",
    "    # rows igual se puede generar como dos listas una con los nombres\n",
    "    # y la otra con los valores\n",
    "    #rows = [[0, \"x2\", \"x3\"],[\"x1\", 1, 2]]\n",
    "    #vals = [[-1.0, 1.0, 1.0],[1.0, -3.0, 1.0]]\n",
    "    \n",
    "    prob.linear_constraints.add(lin_expr=rows, senses=my_sense,\n",
    "                                rhs=my_rhs, names=my_rownames)\n",
    "    \n",
    "    # utilizando row y val, por medio de cplex.SparsePair\n",
    "    #for restriction in range(len(row)):\n",
    "    #    prob.linear_constraints.add(lin_expr = [cplex.SparsePair(ind = rows[restriction], val=vals[restriction])], \n",
    "    #                                senses= [my_sense[restriction]], \n",
    "    #                                rhs= [my_rhs[restriction]], \n",
    "    #                                names=[my_rownames[restriction]])\n",
    "    \n",
    "    # debido a que hay dos argumentos, se toman para especificar un rango, \n",
    "    # por lo tanto, cols es toda la matriz de restricciones como una lista de vectores de columna.\n",
    "    cols = prob.variables.get_cols(\"x1\", \"x3\")"
   ]
  },
  {
   "cell_type": "code",
   "execution_count": 4,
   "metadata": {},
   "outputs": [],
   "source": [
    "def populatebycolumn(prob):\n",
    "    prob.objective.set_sense(prob.objective.sense.maximize)\n",
    "\n",
    "    prob.linear_constraints.add(rhs=my_rhs, senses=my_sense,\n",
    "                                names=my_rownames)\n",
    "\n",
    "    c = [[[0, 1], [-1.0, 1.0]],\n",
    "         [[\"c1\", 1], [1.0, -3.0]],\n",
    "         [[0, \"c2\"], [1.0, 1.0]]]\n",
    "\n",
    "    prob.variables.add(obj=my_obj, ub=my_ub, names=my_colnames,\n",
    "                       columns=c)"
   ]
  },
  {
   "cell_type": "code",
   "execution_count": 5,
   "metadata": {},
   "outputs": [],
   "source": [
    "def populatebynonzero(prob):\n",
    "    prob.objective.set_sense(prob.objective.sense.maximize)\n",
    "\n",
    "    prob.linear_constraints.add(rhs=my_rhs, senses=my_sense,\n",
    "                                names=my_rownames)\n",
    "    prob.variables.add(obj=my_obj, ub=my_ub, names=my_colnames)\n",
    "\n",
    "    rows = [0, 0, 0, 1, 1, 1]\n",
    "    cols = [0, 1, 2, 0, 1, 2]\n",
    "    vals = [-1.0, 1.0, 1.0, 1.0, -3.0, 1.0]\n",
    "\n",
    "    prob.linear_constraints.set_coefficients(zip(rows, cols, vals))\n",
    "    # tambien se puede agregar un coeficiente a la vez, ejemplo: row:1 (\"x2\"), col:1 (\"c2\"), val:-3.0\n",
    "    # prob.linear_constraints.set_coefficients(1,1,-3.0)\n",
    "    # o entregarla en una lista en tripletas\n",
    "    # prob.linear_constraints.set_coefficients([(0,1,1.0), (1,1,-3.0)])"
   ]
  },
  {
   "cell_type": "code",
   "execution_count": 16,
   "metadata": {},
   "outputs": [],
   "source": [
    "def lpex1(pop_method):\n",
    "    try:\n",
    "        my_prob = cplex.Cplex()\n",
    "\n",
    "        if pop_method == \"r\":\n",
    "            handle = populatebyrow(my_prob)\n",
    "        elif pop_method == \"c\":\n",
    "            handle = populatebycolumn(my_prob)\n",
    "        elif pop_method == \"n\":\n",
    "            handle = populatebynonzero(my_prob)\n",
    "        else:\n",
    "            raise ValueError('pop_method debe ser \"r\", \"c\" o \"n\"')\n",
    "\n",
    "        my_prob.solve()\n",
    "        \n",
    "    except CplexError as exc:\n",
    "        print(exc)\n",
    "        return\n",
    "\n",
    "    numrows = my_prob.linear_constraints.get_num()\n",
    "    numcols = my_prob.variables.get_num()\n",
    "\n",
    "    print(\"-------------------------\")\n",
    "    # solution.get_status() retorna un codigo en numero entero\n",
    "    print(\"Estado de la Solución = \", my_prob.solution.get_status(), \":\", end=' ')\n",
    "    # la siguiente linea imprime el string correspondiente\n",
    "    print(my_prob.solution.status[my_prob.solution.get_status()])\n",
    "    print(\"Valor objetivo de la Solución  = \", my_prob.solution.get_objective_value())\n",
    "    slack = my_prob.solution.get_linear_slacks()\n",
    "    pi = my_prob.solution.get_dual_values()\n",
    "    x = my_prob.solution.get_values()\n",
    "    dj = my_prob.solution.get_reduced_costs()\n",
    "    for i in range(numrows):\n",
    "        print(\"Fila %d:  Superavit = %10f  Variable Dual = %10f\" % (i, slack[i], pi[i]))\n",
    "    for j in range(numcols):\n",
    "        print(\"Columna %d:  Valor = %10f Costo Reducido = %10f\" %\n",
    "              (j, x[j], dj[j]))\n",
    "    \n",
    "    ############## Aca lo guardamos\n",
    "    \n",
    "    my_prob.write(\"lpex1.lp\") "
   ]
  },
  {
   "cell_type": "code",
   "execution_count": 15,
   "metadata": {},
   "outputs": [
    {
     "name": "stdout",
     "output_type": "stream",
     "text": [
      "CPXPARAM_Read_DataCheck                          1\n",
      "Tried aggregator 1 time.\n",
      "No LP presolve or aggregator reductions.\n",
      "Presolve time = 0.00 sec. (0.00 ticks)\n",
      "\n",
      "Iteration log . . .\n",
      "Iteration:     1   Dual infeasibility =             0.000000\n",
      "Iteration:     2   Dual objective     =           202.500000\n",
      "-------------------------\n",
      "Solution status =  1 : optimal\n",
      "Solution value  =  202.5\n",
      "Row 0:  Slack =   0.000000  Pi =   2.750000\n",
      "Row 1:  Slack =   0.000000  Pi =   0.250000\n",
      "Column 0:  Value =  40.000000 Reduced cost =   3.500000\n",
      "Column 1:  Value =  17.500000 Reduced cost =  -0.000000\n",
      "Column 2:  Value =  42.500000 Reduced cost =  -0.000000\n"
     ]
    }
   ],
   "source": [
    "lpex1(\"r\") #r: generar problema por fila"
   ]
  },
  {
   "cell_type": "code",
   "execution_count": 17,
   "metadata": {},
   "outputs": [
    {
     "name": "stdout",
     "output_type": "stream",
     "text": [
      "CPXPARAM_Read_DataCheck                          1\n",
      "Tried aggregator 1 time.\n",
      "No LP presolve or aggregator reductions.\n",
      "Presolve time = 0.00 sec. (0.00 ticks)\n",
      "\n",
      "Iteration log . . .\n",
      "Iteration:     1   Dual infeasibility =             0.000000\n",
      "Iteration:     2   Dual objective     =           202.500000\n",
      "-------------------------\n",
      "Estado de la Solución =  1 : optimal\n",
      "Valor objetivo de la Solución  =  202.5\n",
      "Fila 0:  Superavit =   0.000000  Variable Dual =   2.750000\n",
      "Fila 1:  Superavit =   0.000000  Variable Dual =   0.250000\n",
      "Columna 0:  Valor =  40.000000 Costo Reducido =   3.500000\n",
      "Columna 1:  Valor =  17.500000 Costo Reducido =  -0.000000\n",
      "Columna 2:  Valor =  42.500000 Costo Reducido =  -0.000000\n"
     ]
    }
   ],
   "source": [
    "lpex1(\"c\") #c: generar el problema por columna"
   ]
  },
  {
   "cell_type": "code",
   "execution_count": 19,
   "metadata": {},
   "outputs": [
    {
     "name": "stdout",
     "output_type": "stream",
     "text": [
      "CPXPARAM_Read_DataCheck                          1\n",
      "Tried aggregator 1 time.\n",
      "No LP presolve or aggregator reductions.\n",
      "Presolve time = 0.00 sec. (0.00 ticks)\n",
      "\n",
      "Iteration log . . .\n",
      "Iteration:     1   Dual infeasibility =             0.000000\n",
      "Iteration:     2   Dual objective     =           202.500000\n",
      "-------------------------\n",
      "Estado de la Solución =  1 : optimal\n",
      "Valor objetivo de la Solución  =  202.5\n",
      "Fila 0:  Superavit =   0.000000  Variable Dual =   2.750000\n",
      "Fila 1:  Superavit =   0.000000  Variable Dual =   0.250000\n",
      "Columna 0:  Valor =  40.000000 Costo Reducido =   3.500000\n",
      "Columna 1:  Valor =  17.500000 Costo Reducido =  -0.000000\n",
      "Columna 2:  Valor =  42.500000 Costo Reducido =  -0.000000\n"
     ]
    }
   ],
   "source": [
    "lpex1(\"n\") #n: generar el problema por \"nonzeros\""
   ]
  },
  {
   "cell_type": "markdown",
   "metadata": {},
   "source": [
    "### Pasemos a un MIP\n",
    "$Max~z= x_1 + 2 x_2 + 3 x_3 + x_4$\n",
    "\n",
    "Subjeto a:\n",
    "\n",
    "$- x_1 +   x_2 + x_3 + 10 x_4 \\leq 20$\n",
    "\n",
    "$x_1 - 3 x_2 + x_3      \\leq 30$\n",
    "\n",
    "$x_2      - 3.5x_4  = 0$\n",
    "\n",
    "$x_1 <= 40$ \n",
    "\n",
    "$x_4 <= 3$\n",
    "\n",
    "$2 <= x_4$\n",
    "\n",
    "$x_1,x_2,x_3 \\geq 0$\n",
    "\n",
    "$ x_4 \\in \\mathbb{Z}$\n",
    "      "
   ]
  },
  {
   "cell_type": "code",
   "execution_count": 21,
   "metadata": {},
   "outputs": [],
   "source": [
    "my_obj = [1.0, 2.0, 3.0, 1.0]\n",
    "my_ub = [40.0, cplex.infinity, cplex.infinity, 3.0]\n",
    "my_lb = [0.0, 0.0, 0.0, 2.0]\n",
    "my_ctype = \"CCCI\"\n",
    "my_colnames = [\"x1\", \"x2\", \"x3\", \"x4\"]\n",
    "my_rhs = [20.0, 30.0, 0.0]\n",
    "my_rownames = [\"r1\", \"r2\", \"r3\"]\n",
    "my_sense = \"LLE\""
   ]
  },
  {
   "cell_type": "code",
   "execution_count": 22,
   "metadata": {},
   "outputs": [],
   "source": [
    "def populatebyrow(prob):\n",
    "    prob.objective.set_sense(prob.objective.sense.maximize)\n",
    "\n",
    "    prob.variables.add(obj=my_obj, lb=my_lb, ub=my_ub, types=my_ctype,\n",
    "                       names=my_colnames)\n",
    "\n",
    "    rows = [[[\"x1\", \"x2\", \"x3\", \"x4\"], [-1.0, 1.0, 1.0, 10.0]],\n",
    "            [[\"x1\", \"x2\", \"x3\"], [1.0, -3.0, 1.0]],\n",
    "            [[\"x2\", \"x4\"], [1.0, -3.5]]]\n",
    "\n",
    "    prob.linear_constraints.add(lin_expr=rows, senses=my_sense,\n",
    "                                rhs=my_rhs, names=my_rownames)"
   ]
  },
  {
   "cell_type": "code",
   "execution_count": 23,
   "metadata": {},
   "outputs": [
    {
     "name": "stdout",
     "output_type": "stream",
     "text": [
      "CPXPARAM_Read_DataCheck                          1\n",
      "Found incumbent of value 46.000000 after 0.00 sec. (0.00 ticks)\n",
      "Tried aggregator 2 times.\n",
      "Aggregator did 1 substitutions.\n",
      "Reduced MIP has 2 rows, 3 columns, and 6 nonzeros.\n",
      "Reduced MIP has 0 binaries, 1 generals, 0 SOSs, and 0 indicators.\n",
      "Presolve time = 0.00 sec. (0.01 ticks)\n",
      "Tried aggregator 1 time.\n",
      "Reduced MIP has 2 rows, 3 columns, and 6 nonzeros.\n",
      "Reduced MIP has 0 binaries, 1 generals, 0 SOSs, and 0 indicators.\n",
      "Presolve time = 0.00 sec. (0.00 ticks)\n",
      "MIP emphasis: balance optimality and feasibility.\n",
      "MIP search method: dynamic search.\n",
      "Parallel mode: deterministic, using up to 4 threads.\n",
      "Root relaxation solution time = 0.00 sec. (0.00 ticks)\n",
      "\n",
      "        Nodes                                         Cuts/\n",
      "   Node  Left     Objective  IInf  Best Integer    Best Bound    ItCnt     Gap\n",
      "\n",
      "*     0+    0                           46.0000      163.0000           254.35%\n",
      "      0     0      125.2083     1       46.0000      125.2083        3  172.19%\n",
      "*     0+    0                          122.5000      125.2083             2.21%\n",
      "      0     0        cutoff            122.5000                      3     --- \n",
      "Elapsed time = 0.07 sec. (0.03 ticks, tree = 0.01 MB, solutions = 2)\n",
      "\n",
      "Root node processing (before b&c):\n",
      "  Real time             =    0.07 sec. (0.03 ticks)\n",
      "Parallel b&c, 4 threads:\n",
      "  Real time             =    0.00 sec. (0.00 ticks)\n",
      "  Sync time (average)   =    0.00 sec.\n",
      "  Wait time (average)   =    0.00 sec.\n",
      "                          ------------\n",
      "Total (root+branch&cut) =    0.07 sec. (0.03 ticks)\n",
      "----------------------------\n",
      "Estado de la Solución =  101 : MIP_optimal\n",
      "Valor de la solución  =  122.5\n",
      "Fila 0:  Superavit =   0.000000\n",
      "Fila 1:  Superavit =   2.000000\n",
      "Fila 2:  Superavit =   0.000000\n",
      "Columna 0:  Valor =  40.000000\n",
      "Columna 1:  Valor =  10.500000\n",
      "Columna 2:  Valor =  19.500000\n",
      "Columna 3:  Valor =   3.000000\n"
     ]
    }
   ],
   "source": [
    "try:\n",
    "    my_prob = cplex.Cplex()\n",
    "    handle = populatebyrow(my_prob)    \n",
    "    my_prob.solve()\n",
    "except CplexError as exc:\n",
    "    print(exc)\n",
    "    exit()\n",
    "\n",
    "print(\"----------------------------\")\n",
    "# solution.get_status() Retorna un codigo en enteros\n",
    "print(\"Estado de la Solución = \", my_prob.solution.get_status(), \":\", end=' ')\n",
    "# la siguiente linea imprime el string correspondiente\n",
    "print(my_prob.solution.status[my_prob.solution.get_status()])\n",
    "print(\"Valor de la solución  = \", my_prob.solution.get_objective_value())\n",
    "\n",
    "numcols = my_prob.variables.get_num()\n",
    "numrows = my_prob.linear_constraints.get_num()\n",
    "\n",
    "slack = my_prob.solution.get_linear_slacks()\n",
    "x = my_prob.solution.get_values()\n",
    "\n",
    "for j in range(numrows):\n",
    "    print(\"Fila %d:  Superavit = %10f\" % (j, slack[j]))\n",
    "for j in range(numcols):\n",
    "    print(\"Columna %d:  Valor = %10f\" % (j, x[j]))"
   ]
  },
  {
   "cell_type": "markdown",
   "metadata": {},
   "source": [
    "# Ejercicio: Orienteering problem (OP)\n",
    "\n",
    "Recall the MIP formulation:\n",
    "\n",
    "In the OP, a set of N vertices $i$ is given, each with a score $S_{i}$. The starting point (vertex 1) and the end point (vertex $N$) are fixed. The time $t_{ij}$ needed to travel from vertex $i$ to $j$ is known for all vertices. Not all vertices can be visited since the available time is limited to a given time budget $T_{max}$. The goal of the OP is to determine a path, limited by Tmax, that visits some of the vertices, in order to maxi- mise the total collected score. The scores are assumed to be entirely additive and each vertex can be visited at most once.\n",
    "The OP can also be defined with the aid of a graph $G=(V,A)$ where $V=\\{v_{1}, . . . , v_{N}\\}$ is the vertex set and $A$ is the arc set. In this definition the nonnegative score $S_i$ is associated with each vertex $v_i$ 2 $V$ and the travel time $t_{ij}$ is associated with each arc $a_{ij}$ $A$. The OP consists of determining a Hamiltonian path $G^{’}$ $(G)$ over a sub-set of $V$, including preset start ($v_1$) and end ($v_N$) vertex, and having a length not exceeding $T_{max}$, in order to maximise the total collected score. In most cases, the OP is defined as a path to be found between distinct vertices, rather than a circuit or tour $(v_1,...,v_N)$. In many applications, however, $v_1$ does coincide with $v_N$. The difference between both formulations is small. It is always possible to add a dummy arc between end and start vertex to turn a path problem into a circuit problem. Mansini et al. (2006) explicitly define the ‘‘tour orienteering problem” as an OP where the start and end vertex coincide.\n",
    "Making use of the notation introduced above, the OP can be for- mulated as an integer problem. The following decision variables are used: $x_{ij} = 1$ if a visit to vertex $i$ is followed by a visit to vertex $j$ – 0 otherwise; $u_i$ = the position of vertex i in the path.\n",
    "\n",
    "<img src=\"http://www.sciweavers.org/tex2img.php?eq=Max%20%5Csum_%7Bi%3D2%7D%5E%7BN-1%7D%5Csum_%7Bj%3D2%7D%5E%7BN%7DS_i%20x_%7Bij%7D%20%5C%5C%20%5Csum_%7Bj%3D2%7D%5E%7BN%7Dx_%7B1j%7D%20%3D%20%5Csum_%7Bi%3D1%7D%5E%7BN-1%7D%20x_%7BiN%7D%20%3D%201%5C%5C%0A%5Csum_%7Bi%3D1%7D%5E%7BN-1%7Dx_%7Bik%7D%3D%5Csum_%7Bj%3D2%7D%5E%7BN%7Dx_%7Bkj%7D%20%5Cleq%201%2C%5Cforall%20k%3D2%2C...%2CN-1%5C%5C%0A%5Csum_%7Bi%3D1%7D%5E%7BN-1%7D%5Csum_%7Bj%3D2%7D%5E%7BN%7Dt_%7Bij%7Dx_%7Bij%7D%20%5Cleq%20T_%7Bmax%7D%5C%5C%202%20%5Cleq%20u_%7Bi%7D%20%5Cleq%20N%2C%5Cforall%20i%3D2%2C...%2CN%5C%5C%0Au_%7Bi%7D-u_%7Bj%7D%2B%201%20%5Cleq%20%28N-1%29%281-x_%7Bij%7D%29%2C%5Cforall%20i%2Cj%3D2%2C...%2CN%5C%5C%0Ax_%7Bij%7D%20%5Cin%20%7B0%2C1%7D%2C%5Cforall%20i%2Cj%3D1%2C...%2CN&bc=White&fc=Black&im=jpg&fs=12&ff=txfonts&edit=0\" align=\"center\" border=\"0\" alt=\"Max \\sum_{i=2}^{N-1}\\sum_{j=2}^{N}S_i x_{ij} \\\\ \\sum_{j=2}^{N}x_{1j} = \\sum_{i=1}^{N-1} x_{iN} = 1\\\\\\sum_{i=1}^{N-1}x_{ik}=\\sum_{j=2}^{N}x_{kj} \\leq 1,\\forall k=2,...,N-1\\\\\\sum_{i=1}^{N-1}\\sum_{j=2}^{N}t_{ij}x_{ij} \\leq T_{max}\\\\ 2 \\leq u_{i} \\leq N,\\forall i=2,...,N\\\\u_{i}-u_{j}+ 1 \\leq (N-1)(1-x_{ij}),\\forall i,j=2,...,N\\\\x_{ij} \\in {0,1},\\forall i,j=1,...,N\" width=\"300\" height=\"296\" />\n",
    "\n",
    "The objective function is to maximise the total collected score. The first Constraints guarantee that the path starts in vertex 1 and ends in vertex N. The Second Constraints ensure the connectivity of the path and guarantee that every vertex is visited at most once. Constraint (3) ensures the limited time budget. Constraints (4) and (5) are nec- essary to prevent subtours. These subtour elimination constraints are formulated according to the Miller–Tucker–Zemlin (MTZ) for- mulation of the TSP (Miller et al., 1960).\n",
    "\n",
    "[Pagina para instancias de OP](https://www.mech.kuleuven.be/en/cib/op#section-2)"
   ]
  },
  {
   "cell_type": "markdown",
   "metadata": {},
   "source": [
    "# Lectura de Datos y Análisis\n",
    "\n",
    "Leo los datos desde un txt"
   ]
  },
  {
   "cell_type": "code",
   "execution_count": null,
   "metadata": {},
   "outputs": [],
   "source": [
    "import pandas as pd\n",
    "import numpy as np"
   ]
  },
  {
   "cell_type": "code",
   "execution_count": null,
   "metadata": {},
   "outputs": [],
   "source": [
    "ruta = 'data/tsiligirides_problem_1_budget_85.txt'\n",
    "archivo = pd.read_csv(ruta, header=None, delim_whitespace=True)"
   ]
  },
  {
   "cell_type": "markdown",
   "metadata": {},
   "source": [
    "Asigno el tiempo o distancia máxima de la ruta"
   ]
  },
  {
   "cell_type": "code",
   "execution_count": null,
   "metadata": {},
   "outputs": [],
   "source": [
    "tiempo_max=archivo.iloc[-1].values\n",
    "tiempo_max=int(tiempo_max[0])"
   ]
  },
  {
   "cell_type": "markdown",
   "metadata": {},
   "source": [
    "Creo matriz de distancias"
   ]
  },
  {
   "cell_type": "code",
   "execution_count": null,
   "metadata": {},
   "outputs": [],
   "source": [
    "dist=[]\n",
    "for i in range(31):\n",
    "    a=archivo.iloc[i]\n",
    "    a=np.array(a)\n",
    "    a=np.delete(a,2)\n",
    "    for j in range(31):\n",
    "        if i!=j:\n",
    "            b=archivo.iloc[j]\n",
    "            b=np.array(b)\n",
    "            b=np.delete(b,2)\n",
    "            dist.append(int(np.linalg.norm(a-b)))\n",
    "        elif i==j:\n",
    "            dist.append(99999)"
   ]
  },
  {
   "cell_type": "code",
   "execution_count": null,
   "metadata": {},
   "outputs": [],
   "source": [
    "distancias=np.array(dist)\n",
    "distancias=distancias.reshape(31,31)\n",
    "#print(distancias)"
   ]
  },
  {
   "cell_type": "markdown",
   "metadata": {},
   "source": [
    "Obtengo los beneficios de cada nodo"
   ]
  },
  {
   "cell_type": "code",
   "execution_count": null,
   "metadata": {},
   "outputs": [],
   "source": [
    "beneficios=[]\n",
    "for i in range(31):\n",
    "    c= archivo.iloc[i]\n",
    "    c = [int(i) for i in c]\n",
    "    del c[0]\n",
    "    del c[0]\n",
    "    c=c[0]\n",
    "    beneficios.append(c)\n",
    "print(beneficios)   "
   ]
  },
  {
   "cell_type": "markdown",
   "metadata": {},
   "source": [
    "### EJERCICIO-> HACER LA IMPLEMENTACIÓN EN CPLEX CONECTADO A PYTHON"
   ]
  },
  {
   "cell_type": "markdown",
   "metadata": {},
   "source": [
    "## Material en internet:\n",
    "\n",
    "- [Curso de profesor Sergio Correa - Universidad de la Serena](https://www.youtube.com/channel/UCGyGH1nuNrR1C35kWN9BMAg/videos)\n",
    "- [Documentación oficial (en inglés)](https://www.ibm.com/support/knowledgecenter/SSSA5P_12.7.1/ilog.odms.cplex.help/refpythoncplex/html/cplex.Cplex-class.html)"
   ]
  }
 ],
 "metadata": {
  "kernelspec": {
   "display_name": "Python 3",
   "language": "python",
   "name": "python3"
  },
  "language_info": {
   "codemirror_mode": {
    "name": "ipython",
    "version": 3
   },
   "file_extension": ".py",
   "mimetype": "text/x-python",
   "name": "python",
   "nbconvert_exporter": "python",
   "pygments_lexer": "ipython3",
   "version": "3.7.3"
  }
 },
 "nbformat": 4,
 "nbformat_minor": 2
}
